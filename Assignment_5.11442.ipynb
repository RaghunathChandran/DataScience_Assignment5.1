{
 "cells": [
  {
   "cell_type": "markdown",
   "metadata": {},
   "source": [
    "# Session 8: Assignment 1 - Raghunath"
   ]
  },
  {
   "cell_type": "markdown",
   "metadata": {},
   "source": [
    "### 1) How-to-count-distance-to-the-previous-zero\n",
    "    For each value, count the difference of the distance from the previous zero (or the start\n",
    "    of the Series, whichever is closer) and if there are no previous zeros,print the position\n",
    "    Consider a DataFrame df where there is an integer column {'X':[7, 2, 0, 3, 4, 2, 5, 0, 3, 4]}\n",
    "#### The values should therefore be [1, 2, 0, 1, 2, 3, 4, 0, 1, 2]. Make this a new column 'Y'."
   ]
  },
  {
   "cell_type": "code",
   "execution_count": 1,
   "metadata": {
    "collapsed": true
   },
   "outputs": [],
   "source": [
    "import numpy as np"
   ]
  },
  {
   "cell_type": "code",
   "execution_count": 2,
   "metadata": {},
   "outputs": [],
   "source": [
    "import pandas as pd\n",
    "import itertools as it\n",
    "n = 0\n",
    "\n",
    "def distancefromPreviousZero(x):\n",
    "    global n\n",
    "    if x==0:\n",
    "        n = 0\n",
    "        return 0\n",
    "    else:\n",
    "        n=n+1\n",
    "        return n\n",
    "\n",
    "\n",
    "df = pd.DataFrame({'X': [7, 2, 0, 3, 4, 2, 5, 0, 3, 4]})\n",
    "df['Y'] = df['X'].apply(lambda x: distancefromPreviousZero(x))"
   ]
  },
  {
   "cell_type": "code",
   "execution_count": 3,
   "metadata": {},
   "outputs": [
    {
     "data": {
      "text/html": [
       "<div>\n",
       "<style>\n",
       "    .dataframe thead tr:only-child th {\n",
       "        text-align: right;\n",
       "    }\n",
       "\n",
       "    .dataframe thead th {\n",
       "        text-align: left;\n",
       "    }\n",
       "\n",
       "    .dataframe tbody tr th {\n",
       "        vertical-align: top;\n",
       "    }\n",
       "</style>\n",
       "<table border=\"1\" class=\"dataframe\">\n",
       "  <thead>\n",
       "    <tr style=\"text-align: right;\">\n",
       "      <th></th>\n",
       "      <th>X</th>\n",
       "      <th>Y</th>\n",
       "    </tr>\n",
       "  </thead>\n",
       "  <tbody>\n",
       "    <tr>\n",
       "      <th>0</th>\n",
       "      <td>7</td>\n",
       "      <td>1</td>\n",
       "    </tr>\n",
       "    <tr>\n",
       "      <th>1</th>\n",
       "      <td>2</td>\n",
       "      <td>2</td>\n",
       "    </tr>\n",
       "    <tr>\n",
       "      <th>2</th>\n",
       "      <td>0</td>\n",
       "      <td>0</td>\n",
       "    </tr>\n",
       "    <tr>\n",
       "      <th>3</th>\n",
       "      <td>3</td>\n",
       "      <td>1</td>\n",
       "    </tr>\n",
       "    <tr>\n",
       "      <th>4</th>\n",
       "      <td>4</td>\n",
       "      <td>2</td>\n",
       "    </tr>\n",
       "    <tr>\n",
       "      <th>5</th>\n",
       "      <td>2</td>\n",
       "      <td>3</td>\n",
       "    </tr>\n",
       "    <tr>\n",
       "      <th>6</th>\n",
       "      <td>5</td>\n",
       "      <td>4</td>\n",
       "    </tr>\n",
       "    <tr>\n",
       "      <th>7</th>\n",
       "      <td>0</td>\n",
       "      <td>0</td>\n",
       "    </tr>\n",
       "    <tr>\n",
       "      <th>8</th>\n",
       "      <td>3</td>\n",
       "      <td>1</td>\n",
       "    </tr>\n",
       "    <tr>\n",
       "      <th>9</th>\n",
       "      <td>4</td>\n",
       "      <td>2</td>\n",
       "    </tr>\n",
       "  </tbody>\n",
       "</table>\n",
       "</div>"
      ],
      "text/plain": [
       "   X  Y\n",
       "0  7  1\n",
       "1  2  2\n",
       "2  0  0\n",
       "3  3  1\n",
       "4  4  2\n",
       "5  2  3\n",
       "6  5  4\n",
       "7  0  0\n",
       "8  3  1\n",
       "9  4  2"
      ]
     },
     "execution_count": 3,
     "metadata": {},
     "output_type": "execute_result"
    }
   ],
   "source": [
    "df"
   ]
  },
  {
   "cell_type": "markdown",
   "metadata": {},
   "source": [
    "### 2) Create a DatetimeIndex that contains each business day of 2015 and use it to index a Series of random numbers"
   ]
  },
  {
   "cell_type": "code",
   "execution_count": 4,
   "metadata": {},
   "outputs": [
    {
     "data": {
      "text/plain": [
       "2015-01-01    785\n",
       "2015-01-02    276\n",
       "2015-01-05    755\n",
       "2015-01-06    139\n",
       "2015-01-07    390\n",
       "2015-01-08    672\n",
       "2015-01-09    359\n",
       "2015-01-12    588\n",
       "2015-01-13    448\n",
       "2015-01-14    661\n",
       "2015-01-15    482\n",
       "2015-01-16    899\n",
       "2015-01-19    218\n",
       "2015-01-20    679\n",
       "2015-01-21    863\n",
       "2015-01-22    486\n",
       "2015-01-23    137\n",
       "2015-01-26    508\n",
       "2015-01-27     92\n",
       "2015-01-28    783\n",
       "2015-01-29    729\n",
       "2015-01-30    228\n",
       "2015-02-02    873\n",
       "2015-02-03    150\n",
       "2015-02-04    834\n",
       "2015-02-05    172\n",
       "2015-02-06     19\n",
       "2015-02-09    425\n",
       "2015-02-10    866\n",
       "2015-02-11    837\n",
       "             ... \n",
       "2015-11-20    539\n",
       "2015-11-23    387\n",
       "2015-11-24    473\n",
       "2015-11-25    878\n",
       "2015-11-26    425\n",
       "2015-11-27    630\n",
       "2015-11-30    667\n",
       "2015-12-01    519\n",
       "2015-12-02    338\n",
       "2015-12-03    100\n",
       "2015-12-04    499\n",
       "2015-12-07    822\n",
       "2015-12-08    578\n",
       "2015-12-09    856\n",
       "2015-12-10    763\n",
       "2015-12-11    924\n",
       "2015-12-14    814\n",
       "2015-12-15    192\n",
       "2015-12-16    195\n",
       "2015-12-17    963\n",
       "2015-12-18    623\n",
       "2015-12-21    904\n",
       "2015-12-22    641\n",
       "2015-12-23    262\n",
       "2015-12-24    404\n",
       "2015-12-25    153\n",
       "2015-12-28    419\n",
       "2015-12-29    636\n",
       "2015-12-30    517\n",
       "2015-12-31    463\n",
       "Freq: B, Length: 261, dtype: int32"
      ]
     },
     "execution_count": 4,
     "metadata": {},
     "output_type": "execute_result"
    }
   ],
   "source": [
    "from pandas.tseries.offsets import BDay\n",
    "\n",
    "businessdays = pd.bdate_range(start='2015-01-01', end='2015-12-31')\n",
    "label = np.array(np.random.randint(1,1000,len(businessdays)))\n",
    "\n",
    "s = pd.Series(data=label, index = businessdays)\n",
    "s"
   ]
  },
  {
   "cell_type": "markdown",
   "metadata": {},
   "source": [
    "### 3) Find the sum of the values in s for every Wednesday"
   ]
  },
  {
   "cell_type": "code",
   "execution_count": 5,
   "metadata": {},
   "outputs": [
    {
     "data": {
      "text/plain": [
       "28837.0"
      ]
     },
     "execution_count": 5,
     "metadata": {},
     "output_type": "execute_result"
    }
   ],
   "source": [
    "s.where(s.index.dayofweek==2).sum()"
   ]
  },
  {
   "cell_type": "markdown",
   "metadata": {},
   "source": [
    "### 4) Average For each calendar month"
   ]
  },
  {
   "cell_type": "code",
   "execution_count": 6,
   "metadata": {},
   "outputs": [
    {
     "data": {
      "text/plain": [
       "1     508.045455\n",
       "2     515.950000\n",
       "3     534.863636\n",
       "4     524.909091\n",
       "5     624.047619\n",
       "6     454.681818\n",
       "7     428.173913\n",
       "8     566.809524\n",
       "9     486.818182\n",
       "10    643.772727\n",
       "11    516.761905\n",
       "12    547.173913\n",
       "dtype: float64"
      ]
     },
     "execution_count": 6,
     "metadata": {},
     "output_type": "execute_result"
    }
   ],
   "source": [
    "s.groupby(s.index.month).mean()"
   ]
  },
  {
   "cell_type": "markdown",
   "metadata": {},
   "source": [
    "### 5) For each group of four consecutive calendar months in s, find the date on which the highest value occurred."
   ]
  },
  {
   "cell_type": "code",
   "execution_count": 7,
   "metadata": {},
   "outputs": [],
   "source": [
    "#groupby month and get highest of each month\n",
    "result = s.groupby(s.index.month).agg(['max','idxmax']).reset_index()"
   ]
  },
  {
   "cell_type": "code",
   "execution_count": 8,
   "metadata": {
    "collapsed": true
   },
   "outputs": [],
   "source": [
    "def Groupby4Months(x):\n",
    "    '''function to groupby 4 months'''\n",
    "    if x in [1,2,3,4]:\n",
    "        return 1\n",
    "    elif x in [5,6,7,8]:\n",
    "        return 2\n",
    "    else:\n",
    "        return 3"
   ]
  },
  {
   "cell_type": "code",
   "execution_count": 9,
   "metadata": {},
   "outputs": [
    {
     "data": {
      "text/plain": [
       "4MS\n",
       "1   2015-04-07\n",
       "2   2015-08-26\n",
       "3   2015-12-17\n",
       "Name: idxmax, dtype: datetime64[ns]"
      ]
     },
     "execution_count": 9,
     "metadata": {},
     "output_type": "execute_result"
    }
   ],
   "source": [
    "result['4MS'] = result['index'].apply(lambda x: Groupby4Months(x))\n",
    "result = result.groupby('4MS').max()\n",
    "result['idxmax']"
   ]
  }
 ],
 "metadata": {
  "kernelspec": {
   "display_name": "Python 3",
   "language": "python",
   "name": "python3"
  },
  "language_info": {
   "codemirror_mode": {
    "name": "ipython",
    "version": 3
   },
   "file_extension": ".py",
   "mimetype": "text/x-python",
   "name": "python",
   "nbconvert_exporter": "python",
   "pygments_lexer": "ipython3",
   "version": "3.6.2"
  }
 },
 "nbformat": 4,
 "nbformat_minor": 2
}
