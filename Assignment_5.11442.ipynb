{
 "cells": [
  {
   "cell_type": "markdown",
   "metadata": {},
   "source": [
    "# Session 8: Assignment 1"
   ]
  },
  {
   "cell_type": "markdown",
   "metadata": {},
   "source": [
    "### 1) How-to-count-distance-to-the-previous-zero\n",
    "    For each value, count the difference of the distance from the previous zero (or the start\n",
    "    of the Series, whichever is closer) and if there are no previous zeros,print the position\n",
    "    Consider a DataFrame df where there is an integer column {'X':[7, 2, 0, 3, 4, 2, 5, 0, 3, 4]}\n",
    "#### The values should therefore be [1, 2, 0, 1, 2, 3, 4, 0, 1, 2]. Make this a new column 'Y'."
   ]
  },
  {
   "cell_type": "code",
   "execution_count": 1,
   "metadata": {
    "collapsed": true
   },
   "outputs": [],
   "source": [
    "import numpy as np"
   ]
  },
  {
   "cell_type": "code",
   "execution_count": 2,
   "metadata": {},
   "outputs": [],
   "source": [
    "import pandas as pd\n",
    "import itertools as it\n",
    "n = 0\n",
    "\n",
    "def distancefromPreviousZero(x):\n",
    "    global n\n",
    "    if x==0:\n",
    "        n = 0\n",
    "        return 0\n",
    "    else:\n",
    "        n=n+1\n",
    "        return n\n",
    "\n",
    "\n",
    "df = pd.DataFrame({'X': [7, 2, 0, 3, 4, 2, 5, 0, 3, 4]})\n",
    "df['Y'] = df['X'].apply(lambda x: distancefromPreviousZero(x))"
   ]
  },
  {
   "cell_type": "code",
   "execution_count": 3,
   "metadata": {},
   "outputs": [
    {
     "data": {
      "text/html": [
       "<div>\n",
       "<style>\n",
       "    .dataframe thead tr:only-child th {\n",
       "        text-align: right;\n",
       "    }\n",
       "\n",
       "    .dataframe thead th {\n",
       "        text-align: left;\n",
       "    }\n",
       "\n",
       "    .dataframe tbody tr th {\n",
       "        vertical-align: top;\n",
       "    }\n",
       "</style>\n",
       "<table border=\"1\" class=\"dataframe\">\n",
       "  <thead>\n",
       "    <tr style=\"text-align: right;\">\n",
       "      <th></th>\n",
       "      <th>X</th>\n",
       "      <th>Y</th>\n",
       "    </tr>\n",
       "  </thead>\n",
       "  <tbody>\n",
       "    <tr>\n",
       "      <th>0</th>\n",
       "      <td>7</td>\n",
       "      <td>1</td>\n",
       "    </tr>\n",
       "    <tr>\n",
       "      <th>1</th>\n",
       "      <td>2</td>\n",
       "      <td>2</td>\n",
       "    </tr>\n",
       "    <tr>\n",
       "      <th>2</th>\n",
       "      <td>0</td>\n",
       "      <td>0</td>\n",
       "    </tr>\n",
       "    <tr>\n",
       "      <th>3</th>\n",
       "      <td>3</td>\n",
       "      <td>1</td>\n",
       "    </tr>\n",
       "    <tr>\n",
       "      <th>4</th>\n",
       "      <td>4</td>\n",
       "      <td>2</td>\n",
       "    </tr>\n",
       "    <tr>\n",
       "      <th>5</th>\n",
       "      <td>2</td>\n",
       "      <td>3</td>\n",
       "    </tr>\n",
       "    <tr>\n",
       "      <th>6</th>\n",
       "      <td>5</td>\n",
       "      <td>4</td>\n",
       "    </tr>\n",
       "    <tr>\n",
       "      <th>7</th>\n",
       "      <td>0</td>\n",
       "      <td>0</td>\n",
       "    </tr>\n",
       "    <tr>\n",
       "      <th>8</th>\n",
       "      <td>3</td>\n",
       "      <td>1</td>\n",
       "    </tr>\n",
       "    <tr>\n",
       "      <th>9</th>\n",
       "      <td>4</td>\n",
       "      <td>2</td>\n",
       "    </tr>\n",
       "  </tbody>\n",
       "</table>\n",
       "</div>"
      ],
      "text/plain": [
       "   X  Y\n",
       "0  7  1\n",
       "1  2  2\n",
       "2  0  0\n",
       "3  3  1\n",
       "4  4  2\n",
       "5  2  3\n",
       "6  5  4\n",
       "7  0  0\n",
       "8  3  1\n",
       "9  4  2"
      ]
     },
     "execution_count": 3,
     "metadata": {},
     "output_type": "execute_result"
    }
   ],
   "source": [
    "df"
   ]
  },
  {
   "cell_type": "markdown",
   "metadata": {},
   "source": [
    "### 2) Create a DatetimeIndex that contains each business day of 2015 and use it to index a Series of random numbers"
   ]
  },
  {
   "cell_type": "code",
   "execution_count": 4,
   "metadata": {},
   "outputs": [
    {
     "data": {
      "text/plain": [
       "2015-01-01    790\n",
       "2015-01-02    301\n",
       "2015-01-05      6\n",
       "2015-01-06    625\n",
       "2015-01-07     24\n",
       "2015-01-08    229\n",
       "2015-01-09    489\n",
       "2015-01-12     81\n",
       "2015-01-13    657\n",
       "2015-01-14    424\n",
       "2015-01-15    373\n",
       "2015-01-16    366\n",
       "2015-01-19    512\n",
       "2015-01-20    911\n",
       "2015-01-21    190\n",
       "2015-01-22    610\n",
       "2015-01-23    782\n",
       "2015-01-26     12\n",
       "2015-01-27     36\n",
       "2015-01-28    461\n",
       "2015-01-29    822\n",
       "2015-01-30    659\n",
       "2015-02-02     58\n",
       "2015-02-03    624\n",
       "2015-02-04    820\n",
       "2015-02-05    479\n",
       "2015-02-06    765\n",
       "2015-02-09    385\n",
       "2015-02-10     51\n",
       "2015-02-11    203\n",
       "             ... \n",
       "2015-11-20    829\n",
       "2015-11-23    229\n",
       "2015-11-24     75\n",
       "2015-11-25    591\n",
       "2015-11-26    366\n",
       "2015-11-27    504\n",
       "2015-11-30    584\n",
       "2015-12-01    117\n",
       "2015-12-02    687\n",
       "2015-12-03    587\n",
       "2015-12-04    640\n",
       "2015-12-07    850\n",
       "2015-12-08    809\n",
       "2015-12-09    355\n",
       "2015-12-10    398\n",
       "2015-12-11    452\n",
       "2015-12-14     51\n",
       "2015-12-15    187\n",
       "2015-12-16    709\n",
       "2015-12-17    654\n",
       "2015-12-18    723\n",
       "2015-12-21    840\n",
       "2015-12-22     61\n",
       "2015-12-23    358\n",
       "2015-12-24    189\n",
       "2015-12-25    381\n",
       "2015-12-28    943\n",
       "2015-12-29    536\n",
       "2015-12-30    608\n",
       "2015-12-31     98\n",
       "Freq: B, Length: 261, dtype: int32"
      ]
     },
     "execution_count": 4,
     "metadata": {},
     "output_type": "execute_result"
    }
   ],
   "source": [
    "from pandas.tseries.offsets import BDay\n",
    "\n",
    "businessdays = pd.bdate_range(start='2015-01-01', end='2015-12-31')\n",
    "label = np.array(np.random.randint(1,1000,len(businessdays)))\n",
    "\n",
    "s = pd.Series(data=label, index = businessdays)\n",
    "s"
   ]
  },
  {
   "cell_type": "markdown",
   "metadata": {},
   "source": [
    "### 3) Find the sum of the values in s for every Wednesday"
   ]
  },
  {
   "cell_type": "code",
   "execution_count": 5,
   "metadata": {},
   "outputs": [
    {
     "data": {
      "text/plain": [
       "24413.0"
      ]
     },
     "execution_count": 5,
     "metadata": {},
     "output_type": "execute_result"
    }
   ],
   "source": [
    "s.where(s.index.dayofweek==2).sum()"
   ]
  },
  {
   "cell_type": "markdown",
   "metadata": {},
   "source": [
    "### 4) Average For each calendar month"
   ]
  },
  {
   "cell_type": "code",
   "execution_count": 6,
   "metadata": {},
   "outputs": [
    {
     "data": {
      "text/plain": [
       "1     425.454545\n",
       "2     419.400000\n",
       "3     456.000000\n",
       "4     594.545455\n",
       "5     425.190476\n",
       "6     501.409091\n",
       "7     589.652174\n",
       "8     600.380952\n",
       "9     582.363636\n",
       "10    339.454545\n",
       "11    418.523810\n",
       "12    488.391304\n",
       "dtype: float64"
      ]
     },
     "execution_count": 6,
     "metadata": {},
     "output_type": "execute_result"
    }
   ],
   "source": [
    "s.groupby(s.index.month).mean()"
   ]
  },
  {
   "cell_type": "markdown",
   "metadata": {},
   "source": [
    "### 5) For each group of four consecutive calendar months in s, find the date on which the highest value occurred."
   ]
  },
  {
   "cell_type": "code",
   "execution_count": 7,
   "metadata": {},
   "outputs": [],
   "source": [
    "#groupby month and get highest of each month\n",
    "result = s.groupby(s.index.month).agg(['max','idxmax']).reset_index()"
   ]
  },
  {
   "cell_type": "code",
   "execution_count": 8,
   "metadata": {
    "collapsed": true
   },
   "outputs": [],
   "source": [
    "def Groupby4Months(x):\n",
    "    '''function to groupby 4 months'''\n",
    "    if x in [1,2,3,4]:\n",
    "        return 1\n",
    "    elif x in [5,6,7,8]:\n",
    "        return 2\n",
    "    else:\n",
    "        return 3"
   ]
  },
  {
   "cell_type": "code",
   "execution_count": 9,
   "metadata": {},
   "outputs": [
    {
     "data": {
      "text/html": [
       "<div>\n",
       "<style>\n",
       "    .dataframe thead tr:only-child th {\n",
       "        text-align: right;\n",
       "    }\n",
       "\n",
       "    .dataframe thead th {\n",
       "        text-align: left;\n",
       "    }\n",
       "\n",
       "    .dataframe tbody tr th {\n",
       "        vertical-align: top;\n",
       "    }\n",
       "</style>\n",
       "<table border=\"1\" class=\"dataframe\">\n",
       "  <thead>\n",
       "    <tr style=\"text-align: right;\">\n",
       "      <th></th>\n",
       "      <th>index</th>\n",
       "      <th>max</th>\n",
       "      <th>idxmax</th>\n",
       "    </tr>\n",
       "    <tr>\n",
       "      <th>4MS</th>\n",
       "      <th></th>\n",
       "      <th></th>\n",
       "      <th></th>\n",
       "    </tr>\n",
       "  </thead>\n",
       "  <tbody>\n",
       "    <tr>\n",
       "      <th>1</th>\n",
       "      <td>4</td>\n",
       "      <td>945</td>\n",
       "      <td>2015-04-08</td>\n",
       "    </tr>\n",
       "    <tr>\n",
       "      <th>2</th>\n",
       "      <td>8</td>\n",
       "      <td>994</td>\n",
       "      <td>2015-08-20</td>\n",
       "    </tr>\n",
       "    <tr>\n",
       "      <th>3</th>\n",
       "      <td>12</td>\n",
       "      <td>975</td>\n",
       "      <td>2015-12-28</td>\n",
       "    </tr>\n",
       "  </tbody>\n",
       "</table>\n",
       "</div>"
      ],
      "text/plain": [
       "     index  max     idxmax\n",
       "4MS                       \n",
       "1        4  945 2015-04-08\n",
       "2        8  994 2015-08-20\n",
       "3       12  975 2015-12-28"
      ]
     },
     "execution_count": 9,
     "metadata": {},
     "output_type": "execute_result"
    }
   ],
   "source": [
    "result['4MS'] = result['index'].apply(lambda x: Groupby4Months(x))\n",
    "result.groupby('4MS').max()"
   ]
  }
 ],
 "metadata": {
  "kernelspec": {
   "display_name": "Python 3",
   "language": "python",
   "name": "python3"
  },
  "language_info": {
   "codemirror_mode": {
    "name": "ipython",
    "version": 3
   },
   "file_extension": ".py",
   "mimetype": "text/x-python",
   "name": "python",
   "nbconvert_exporter": "python",
   "pygments_lexer": "ipython3",
   "version": "3.6.2"
  }
 },
 "nbformat": 4,
 "nbformat_minor": 2
}
